{
 "cells": [
  {
   "cell_type": "code",
   "execution_count": 16,
   "id": "d7f34aae",
   "metadata": {},
   "outputs": [],
   "source": [
    "def data_required():\n",
    "    num1=float(input(\"Enter the first number of your choice\"))\n",
    "    num2=float(input(\"Enter the second number of your choice\"))\n",
    "    operation=input(\"Enter operation from[+,-,*,/]\")\n",
    "    return num1,num2,operation"
   ]
  },
  {
   "cell_type": "code",
   "execution_count": 17,
   "id": "b04d164a",
   "metadata": {},
   "outputs": [],
   "source": [
    "def valid_operation(operation):\n",
    "    valid_choice=[\"+\",\"-\",\"*\",\"/\",\"//\",\"**\"]\n",
    "    return operation in valid_choice\n",
    "        "
   ]
  },
  {
   "cell_type": "code",
   "execution_count": 18,
   "id": "2df1e7a8",
   "metadata": {},
   "outputs": [],
   "source": [
    "def perform_operation(num1,num2,operation):\n",
    "    if operation==\"+\":\n",
    "        return num1+num2\n",
    "    elif operation==\"-\":\n",
    "        return num1-num2\n",
    "    elif operation==\"*\":\n",
    "        return num1*num2\n",
    "    elif operation==\"/\":\n",
    "        if num2==0:\n",
    "            return \"can't divide by 0\"\n",
    "        else:\n",
    "            return num1/num2\n",
    "    elif operation==\"//\":\n",
    "        return num1//num2\n",
    "    elif operation==\"**\":\n",
    "        return num1**num2\n",
    "    else:\n",
    "        raise ValueError(\"your operation choice is invalid{}\".format(operation))"
   ]
  },
  {
   "cell_type": "code",
   "execution_count": 19,
   "id": "865cae86",
   "metadata": {},
   "outputs": [],
   "source": [
    "def calculated_result(result):\n",
    "    print(\"the reslt of your calculation is{}\".format(result))"
   ]
  },
  {
   "cell_type": "code",
   "execution_count": 20,
   "id": "97477098",
   "metadata": {},
   "outputs": [
    {
     "name": "stdout",
     "output_type": "stream",
     "text": [
      "Enter the first number of your choice76\n",
      "Enter the second number of your choice90\n",
      "Enter operation from[+,-,*,/]-\n",
      "the reslt of your calculation is-14.0\n"
     ]
    }
   ],
   "source": [
    "def main():\n",
    "    num1,num2,operation=data_required()\n",
    "    if not valid_operation(operation):\n",
    "        print(\"try again with valid operation\")\n",
    "    result= perform_operation(num1,num2,operation)\n",
    "    calculated_result(result)\n",
    "if __name__==\"__main__\":\n",
    "    main()"
   ]
  },
  {
   "cell_type": "code",
   "execution_count": null,
   "id": "96e72871",
   "metadata": {},
   "outputs": [],
   "source": []
  }
 ],
 "metadata": {
  "kernelspec": {
   "display_name": "Python 3 (ipykernel)",
   "language": "python",
   "name": "python3"
  },
  "language_info": {
   "codemirror_mode": {
    "name": "ipython",
    "version": 3
   },
   "file_extension": ".py",
   "mimetype": "text/x-python",
   "name": "python",
   "nbconvert_exporter": "python",
   "pygments_lexer": "ipython3",
   "version": "3.11.4"
  }
 },
 "nbformat": 4,
 "nbformat_minor": 5
}
